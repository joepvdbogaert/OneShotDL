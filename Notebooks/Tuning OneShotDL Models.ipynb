{
 "cells": [
  {
   "cell_type": "markdown",
   "metadata": {},
   "source": [
    "# Tuning OneShot Models\n",
    "\n",
    "This notebooks demonstrates the ease with which the OneShotDL models can be tuned using <i>Efficient Hyperparameter Optimization of Deep Learning Algorithms Using Deterministic RBF Surrogates</i> (Ilievski et al., 2017). The paper shows it outperforms popular Bayesian Optimization approaches like SMAC and TPE, especially when the number of parameters to tune is large.\n",
    "\n",
    "The paper: https://arxiv.org/pdf/1607.08316.pdf "
   ]
  },
  {
   "cell_type": "code",
   "execution_count": null,
   "metadata": {
    "collapsed": true
   },
   "outputs": [],
   "source": [
    "# Run this ONLY ONCE to set working directory\n",
    "import os\n",
    "os.chdir('..')"
   ]
  },
  {
   "cell_type": "code",
   "execution_count": null,
   "metadata": {},
   "outputs": [],
   "source": [
    "import helpers\n",
    "import models\n",
    "from models import OneShotCNN, OneShotTransferCNN"
   ]
  },
  {
   "cell_type": "markdown",
   "metadata": {},
   "source": [
    "## 1. Tune a OneShotCNN model"
   ]
  },
  {
   "cell_type": "code",
   "execution_count": null,
   "metadata": {
    "collapsed": true
   },
   "outputs": [],
   "source": [
    "oneshotCNN = OneShotCNN(log=False, verbose=True)"
   ]
  },
  {
   "cell_type": "code",
   "execution_count": null,
   "metadata": {},
   "outputs": [],
   "source": [
    "maximum_evaluations = 200 # like in the HORD paper\n",
    "oneshotCNN.tune_with_HORD(maximum_evaluations)"
   ]
  },
  {
   "cell_type": "markdown",
   "metadata": {},
   "source": [
    "## 2. Tune a OneShotTransferCNN model\n",
    "\n",
    "Note that tuning the model will probably take multiple days when using 200 evaluations (like in the paper)."
   ]
  },
  {
   "cell_type": "code",
   "execution_count": null,
   "metadata": {
    "collapsed": true
   },
   "outputs": [],
   "source": [
    "transfermodel = OneShotTransferCNN(log=False, verbose=1)"
   ]
  },
  {
   "cell_type": "code",
   "execution_count": null,
   "metadata": {},
   "outputs": [],
   "source": [
    "maximum_evaluations = 200 # like in the HORD paper\n",
    "transfermodel.tune_with_HORD(maximum_evaluations)"
   ]
  }
 ],
 "metadata": {
  "kernelspec": {
   "display_name": "Python 3",
   "language": "python",
   "name": "python3"
  },
  "language_info": {
   "codemirror_mode": {
    "name": "ipython",
    "version": 3
   },
   "file_extension": ".py",
   "mimetype": "text/x-python",
   "name": "python",
   "nbconvert_exporter": "python",
   "pygments_lexer": "ipython3",
   "version": "3.6.1"
  }
 },
 "nbformat": 4,
 "nbformat_minor": 2
}
