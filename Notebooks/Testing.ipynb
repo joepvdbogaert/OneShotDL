{
 "cells": [
  {
   "cell_type": "markdown",
   "metadata": {},
   "source": [
    "# Testing\n",
    "\n",
    "The developed classes need some thorough testing before we run the whole experiment. It would be very bad if the script breaks in the middle of tuning. This notebook lists some situations that should be tested and explains how to do so.\n",
    "\n",
    "The tests can be performed by evaluating the objective function for a specified set of parameter values. Every class has a method <i>objfunction</i>, which takes a list of values as input."
   ]
  },
  {
   "cell_type": "code",
   "execution_count": 1,
   "metadata": {},
   "outputs": [
    {
     "name": "stderr",
     "output_type": "stream",
     "text": [
      "C:\\Users\\s100385\\Anaconda3\\lib\\site-packages\\h5py\\__init__.py:36: FutureWarning: Conversion of the second argument of issubdtype from `float` to `np.floating` is deprecated. In future, it will be treated as `np.float64 == np.dtype(float).type`.\n",
      "  from ._conv import register_converters as _register_converters\n",
      "Using TensorFlow backend.\n",
      "C:\\Users\\s100385\\Documents\\JADS Working Files\\Research Paper One-shot\\Code\\OneShotDL\\models.py:1086: SyntaxWarning: assertion is always true, perhaps remove parentheses?\n",
      "  assert(not np.any(np.equal(classes1[:batch_size//2], classes2[:batch_size//2])), \"Error in class selection\")\n"
     ]
    }
   ],
   "source": [
    "import os\n",
    "os.chdir('..')\n",
    "import helpers\n",
    "import models\n",
    "from models import OneShotCNN, OneShotTransferCNN, OneShotAutoencoder, OneShotSiameseNetwork"
   ]
  },
  {
   "cell_type": "code",
   "execution_count": 2,
   "metadata": {},
   "outputs": [
    {
     "name": "stdout",
     "output_type": "stream",
     "text": [
      "[1.e-04 0.e+00 0.e+00 0.e+00 0.e+00 0.e+00 0.e+00 2.e+00 0.e+00 0.e+00\n",
      " 3.e+00 4.e+00 5.e+00 0.e+00 0.e+00 5.e+01]\n"
     ]
    }
   ],
   "source": [
    "# initialize with logging and verbose\n",
    "model = OneShotCNN(log=True, verbose=1)\n",
    "# choose lower bound of model as example (THIS SHOULD BE DONE MANUALLY TO PERFORM THE TESTS)\n",
    "x = model.xlow\n",
    "print(x)"
   ]
  },
  {
   "cell_type": "markdown",
   "metadata": {},
   "source": [
    "As you can see, x is just a list of numbers. This can be put in the objective function"
   ]
  },
  {
   "cell_type": "code",
   "execution_count": null,
   "metadata": {
    "scrolled": true
   },
   "outputs": [],
   "source": [
    "# test for given x\n",
    "model.objfunction(x)"
   ]
  },
  {
   "cell_type": "markdown",
   "metadata": {},
   "source": [
    "The <i>hyper_map</i> attribute of the model can be used to get the index of a hyperparameter in X. For example, the learning rate is the first entry of X (index 0)."
   ]
  },
  {
   "cell_type": "code",
   "execution_count": null,
   "metadata": {},
   "outputs": [],
   "source": [
    "model.hyper_map['learning_rate']"
   ]
  },
  {
   "cell_type": "markdown",
   "metadata": {},
   "source": [
    "to see the full list of available hyperparameters (and their order), you can print the <i>hyperparams</i> attribute:"
   ]
  },
  {
   "cell_type": "code",
   "execution_count": null,
   "metadata": {},
   "outputs": [],
   "source": [
    "model.hyperparams"
   ]
  },
  {
   "cell_type": "markdown",
   "metadata": {},
   "source": [
    "# OneShotCNN tests\n",
    "\n",
    "For the simplest class, the OneShotCNN class, we should test the following:\n",
    "- The early stopping procedure in combination with logging. Do this by training a very bad model (setting RMSProp's learning rate to 0.1 should do the trick) and have log=True on initialization."
   ]
  },
  {
   "cell_type": "code",
   "execution_count": null,
   "metadata": {
    "collapsed": true
   },
   "outputs": [],
   "source": [
    "test = OneShotCNN(log=True, verbose=0)\n",
    "x = test.xlow\n",
    "x[test.hyper_map['learning_rate']] = 0.000000000001\n",
    "test.objfunction(x)"
   ]
  },
  {
   "cell_type": "markdown",
   "metadata": {},
   "source": [
    "##### Works as intended"
   ]
  },
  {
   "cell_type": "markdown",
   "metadata": {},
   "source": [
    "# OneShotTransferCNN tests\n",
    "\n",
    "For the simplest class, the OneShotCNN class, we should test the following:\n",
    "- The early stopping procedure in combination with logging. Do this by training a very bad model (setting RMSProp's learning rate to 0.1 should do the trick) and have log=True on initialization.\n",
    "- Having 'num_fixed_layers' larger than the total number of layers in the model.\n",
    "- .."
   ]
  },
  {
   "cell_type": "code",
   "execution_count": null,
   "metadata": {
    "collapsed": true
   },
   "outputs": [],
   "source": [
    "transfermodel = OneShotTransferCNN(log=True, verbose=1)"
   ]
  },
  {
   "cell_type": "code",
   "execution_count": null,
   "metadata": {},
   "outputs": [],
   "source": [
    "x = transfermodel.xlow\n",
    "# set learning rates to too very bad values\n",
    "x[0] = 0.001 # big enough to learn nothing\n",
    "x[1] = 0.001 # don't let it learn much in fine tuning\n",
    "# set fixed layers to value bigger than the total number of layers\n",
    "x[transfermodel.hyper_map['num_fixed_layers']] = 9\n",
    "x[transfermodel.hyper_map['epochs']] = 1\n",
    "x[transfermodel.hyper_map['finetune_epochs']] = 3"
   ]
  },
  {
   "cell_type": "code",
   "execution_count": null,
   "metadata": {},
   "outputs": [],
   "source": [
    "transfermodel.objfunction(x)"
   ]
  },
  {
   "cell_type": "markdown",
   "metadata": {},
   "source": [
    "##### Outcomes\n",
    "- Early stopping works as intended and logging is not affected by it.\n",
    "- The big number of fixed layers results in the classifying layer also being fixed. This way, no fine tuning occurs. <strong>Problem fixed at March 6, 2018.</strong>."
   ]
  },
  {
   "cell_type": "markdown",
   "metadata": {},
   "source": [
    "# OneShotAutoencoder tests\n",
    "\n",
    "For the autoencoder class\n",
    "- General objective evaulation\n",
    "- Tuning procedure\n",
    "- Whether weights are frozen and reinitialized properly\n",
    "- Positioning of max pools and upsampling layers"
   ]
  },
  {
   "cell_type": "code",
   "execution_count": null,
   "metadata": {},
   "outputs": [],
   "source": [
    "oneshotAE = OneShotAutoencoder(log=True, folds=3, verbose=1)"
   ]
  },
  {
   "cell_type": "code",
   "execution_count": null,
   "metadata": {},
   "outputs": [],
   "source": [
    "#oneshotAE.objfunction(x)"
   ]
  },
  {
   "cell_type": "code",
   "execution_count": null,
   "metadata": {},
   "outputs": [],
   "source": [
    "oneshotAE.tune_with_HORD(100)"
   ]
  },
  {
   "cell_type": "markdown",
   "metadata": {},
   "source": [
    "##### Outcomes\n",
    "- Objective evaluation works\n",
    "- Tuning works\n",
    "- Freezing layers works properly for the case when all layers should be frozen except the classifier. <strong>Other values need more testing</strong>\n",
    "- Max pools and upsampling layers seem to position just fine."
   ]
  },
  {
   "cell_type": "markdown",
   "metadata": {},
   "source": []
  },
  {
   "cell_type": "markdown",
   "metadata": {},
   "source": [
    "# Siamese Network tests"
   ]
  },
  {
   "cell_type": "code",
   "execution_count": 1,
   "metadata": {},
   "outputs": [
    {
     "name": "stderr",
     "output_type": "stream",
     "text": [
      "C:\\Users\\s100385\\Anaconda3\\lib\\site-packages\\h5py\\__init__.py:36: FutureWarning: Conversion of the second argument of issubdtype from `float` to `np.floating` is deprecated. In future, it will be treated as `np.float64 == np.dtype(float).type`.\n",
      "  from ._conv import register_converters as _register_converters\n",
      "Using TensorFlow backend.\n",
      "C:\\Users\\s100385\\Documents\\JADS Working Files\\Research Paper One-shot\\Code\\OneShotDL\\models.py:1092: SyntaxWarning: assertion is always true, perhaps remove parentheses?\n",
      "  assert(not np.any(np.equal(classes1[:batch_size//2], classes2[:batch_size//2])), \"Error in class selection\")\n"
     ]
    }
   ],
   "source": [
    "import os\n",
    "os.chdir('..')\n",
    "import helpers\n",
    "import models\n",
    "from models import OneShotCNN, OneShotTransferCNN, OneShotAutoencoder, OneShotSiameseNetwork\n",
    "from copy import copy"
   ]
  },
  {
   "cell_type": "code",
   "execution_count": 2,
   "metadata": {},
   "outputs": [],
   "source": [
    "siamesenet = OneShotSiameseNetwork()"
   ]
  },
  {
   "cell_type": "code",
   "execution_count": 3,
   "metadata": {},
   "outputs": [],
   "source": [
    "x = copy(siamesenet.xlow)"
   ]
  },
  {
   "cell_type": "code",
   "execution_count": 4,
   "metadata": {},
   "outputs": [
    {
     "name": "stdout",
     "output_type": "stream",
     "text": [
      "-------------\n",
      "Experiment 1.\n",
      "-------------\n",
      "learning_rate: 0.0001\n",
      "dropout_rate1: 0.0\n",
      "dropout_rate2: 0.0\n",
      "width_shift: 0.0\n",
      "height_shift: 0.0\n",
      "shear: 0.0\n",
      "zoom: 0.0\n",
      "num_conv_layers: 2.0\n",
      "num_dense_layers: 0.0\n",
      "num_maxpools: 0.0\n",
      "neurons_first_conv: 3.0\n",
      "neurons_remaining_conv: 4.0\n",
      "neurons_dense: 5.0\n",
      "neurons_final: 5.0\n",
      "rotation: 0.0\n",
      "horizontal_flip: 0.0\n",
      "epochs: 3.0\n",
      "-------------\n",
      "Cross validating in 10 folds..\n"
     ]
    },
    {
     "name": "stderr",
     "output_type": "stream",
     "text": [
      "C:\\Users\\s100385\\Documents\\JADS Working Files\\Research Paper One-shot\\Code\\OneShotDL\\models.py:1047: UserWarning: The `merge` function is deprecated and will be removed after 08/2017. Use instead layers from `keras.layers.merge`, e.g. `add`, `concatenate`, etc.\n",
      "  combined = merge([encoded_left, encoded_right], mode = self.L1_distance, output_shape = lambda x: x[0])\n",
      "C:\\Users\\s100385\\Anaconda3\\lib\\site-packages\\keras\\legacy\\layers.py:464: UserWarning: The `Merge` layer is deprecated and will be removed after 08/2017. Use instead layers from `keras.layers.merge`, e.g. `add`, `concatenate`, etc.\n",
      "  name=name)\n",
      "C:\\Users\\s100385\\Documents\\JADS Working Files\\Research Paper One-shot\\Code\\OneShotDL\\models.py:1049: UserWarning: Update your `Model` call to the Keras 2 API: `Model(inputs=[<tf.Tenso..., outputs=Tensor(\"de...)`\n",
      "  model = Model(input=[left_input, right_input], output=prediction)\n"
     ]
    },
    {
     "name": "stdout",
     "output_type": "stream",
     "text": [
      "fit 1:\n",
      "test accuracy: 55.04%.\n",
      "fit 2:\n",
      "test accuracy: 50.74%.\n",
      "fit 3:\n",
      "test accuracy: 49.98%.\n",
      "fit 4:\n",
      "test accuracy: 63.92%.\n",
      "fit 5:\n",
      "test accuracy: 40.58%.\n",
      "fit 6:\n",
      "test accuracy: 20.0%.\n",
      "fit 7:\n",
      "test accuracy: 48.98%.\n",
      "fit 8:\n",
      "test accuracy: 45.54%.\n",
      "fit 9:\n",
      "test accuracy: 47.6%.\n",
      "fit 10:\n",
      "test accuracy: 62.6%.\n",
      "Scores: [0.5504, 0.5074, 0.4998, 0.6392, 0.4058, 0.2, 0.4898, 0.4554, 0.476, 0.626].\n",
      "Mean: 48.5%. Standard deviation: 11.71%\n"
     ]
    },
    {
     "data": {
      "text/plain": [
       "-0.48498"
      ]
     },
     "execution_count": 4,
     "metadata": {},
     "output_type": "execute_result"
    }
   ],
   "source": [
    "siamesenet.objfunction(x)"
   ]
  },
  {
   "cell_type": "code",
   "execution_count": null,
   "metadata": {},
   "outputs": [],
   "source": []
  },
  {
   "cell_type": "code",
   "execution_count": null,
   "metadata": {},
   "outputs": [],
   "source": []
  }
 ],
 "metadata": {
  "kernelspec": {
   "display_name": "Python 3",
   "language": "python",
   "name": "python3"
  },
  "language_info": {
   "codemirror_mode": {
    "name": "ipython",
    "version": 3
   },
   "file_extension": ".py",
   "mimetype": "text/x-python",
   "name": "python",
   "nbconvert_exporter": "python",
   "pygments_lexer": "ipython3",
   "version": "3.6.4"
  }
 },
 "nbformat": 4,
 "nbformat_minor": 2
}
